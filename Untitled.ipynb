{
 "cells": [
  {
   "cell_type": "code",
   "execution_count": 34,
   "metadata": {},
   "outputs": [],
   "source": [
    "import tensorflow as tf\n",
    "import numpy as np\n",
    "import matplotlib.pyplot as plt\n",
    "import os\n",
    "import cv2\n",
    "from sklearn.model_selection import train_test_split"
   ]
  },
  {
   "cell_type": "code",
   "execution_count": 35,
   "metadata": {},
   "outputs": [
    {
     "name": "stdout",
     "output_type": "stream",
     "text": [
      "10160\n",
      "10160\n"
     ]
    }
   ],
   "source": [
    "#Get the data\n",
    "classes = 10 \n",
    "images = []\n",
    "labels = [] \n",
    "\n",
    "for i in range(0, classes):\n",
    "    imgList = os.listdir(\"C:/Users/aksha/Documents/Project of python/AR Sudoku/Data/Data/\"+str(i))\n",
    "    for j in imgList:\n",
    "        currentImg = cv2.imread(\"C:/Users/aksha/Documents/Project of python/AR Sudoku/Data/Data/\"+str(i)+'/'+str(j))\n",
    "        currentImg = cv2.resize(currentImg, (28, 28))\n",
    "        images.append(currentImg)\n",
    "        labels.append(i)\n",
    "        \n",
    "print(len(images))\n",
    "print(len(labels))"
   ]
  },
  {
   "cell_type": "code",
   "execution_count": 36,
   "metadata": {},
   "outputs": [
    {
     "name": "stdout",
     "output_type": "stream",
     "text": [
      "(10160, 28, 28, 3)\n",
      "(10160,)\n"
     ]
    }
   ],
   "source": [
    "images = np.array(images)\n",
    "labels = np.array(labels)\n",
    "print(images.shape)\n",
    "print(labels.shape)"
   ]
  },
  {
   "cell_type": "code",
   "execution_count": null,
   "metadata": {},
   "outputs": [],
   "source": [
    "plt.imshow(images[2000])"
   ]
  },
  {
   "cell_type": "code",
   "execution_count": 48,
   "metadata": {},
   "outputs": [
    {
     "name": "stdout",
     "output_type": "stream",
     "text": [
      "(7112, 28, 28, 3)\n",
      "(3048, 28, 28, 3)\n"
     ]
    }
   ],
   "source": [
    "#splitting the data to test and train\n",
    "\n",
    "train_images, test_images, train_labels, test_labels = train_test_split(images, labels, test_size = 0.3)\n",
    "print(train_images.shape)\n",
    "print(test_images.shape)"
   ]
  },
  {
   "cell_type": "code",
   "execution_count": 49,
   "metadata": {},
   "outputs": [
    {
     "name": "stdout",
     "output_type": "stream",
     "text": [
      "(5689, 28, 28, 3)\n",
      "(1423, 28, 28, 3)\n"
     ]
    }
   ],
   "source": [
    "train_images,  val_images, train_labels, val_labels = train_test_split(train_images, train_labels, test_size=0.2)\n",
    "print(train_images.shape)\n",
    "print(val_images.shape)"
   ]
  },
  {
   "cell_type": "code",
   "execution_count": 50,
   "metadata": {},
   "outputs": [],
   "source": [
    "#Processing the data\n",
    "def preprocessing(img):\n",
    "    img=cv2.cvtColor(img,cv2.COLOR_BGR2GRAY)\n",
    "    img = cv2.equalizeHist(img)\n",
    "    x ,img = cv2.threshold(img, 127,255, cv2.THRESH_BINARY)\n",
    "    img = img/255\n",
    "    return img\n",
    "\n",
    "train_images = np.array(list(map(preprocessing, train_images)))\n",
    "test_images = np.array(list(map(preprocessing, test_images)))\n",
    "val_images = np.array(list(map(preprocessing, val_images)))\n"
   ]
  },
  {
   "cell_type": "code",
   "execution_count": 51,
   "metadata": {},
   "outputs": [
    {
     "name": "stdout",
     "output_type": "stream",
     "text": [
      "(5689, 28, 28)\n",
      "(3048, 28, 28)\n",
      "(1423, 28, 28)\n"
     ]
    }
   ],
   "source": [
    "print(train_images.shape)\n",
    "print(test_images.shape)\n",
    "print(val_images.shape)"
   ]
  },
  {
   "cell_type": "code",
   "execution_count": 53,
   "metadata": {},
   "outputs": [],
   "source": [
    "train_images = train_images.reshape(train_images.shape[0], 28, 28, 1)\n",
    "test_images = test_images.reshape(test_images.shape[0], 28, 28, 1)\n",
    "val_images = val_images.reshape(val_images.shape[0], 28, 28, 1)"
   ]
  },
  {
   "cell_type": "code",
   "execution_count": 54,
   "metadata": {},
   "outputs": [
    {
     "name": "stdout",
     "output_type": "stream",
     "text": [
      "(5689, 28, 28, 1)\n",
      "(3048, 28, 28, 1)\n",
      "(1423, 28, 28, 1)\n"
     ]
    }
   ],
   "source": [
    "\n",
    "print(train_images.shape)\n",
    "print(test_images.shape)\n",
    "print(val_images.shape)"
   ]
  },
  {
   "cell_type": "code",
   "execution_count": 55,
   "metadata": {},
   "outputs": [
    {
     "data": {
      "text/plain": [
       "<matplotlib.image.AxesImage at 0x1a4a326c790>"
      ]
     },
     "execution_count": 55,
     "metadata": {},
     "output_type": "execute_result"
    },
    {
     "data": {
      "image/png": "[encoded data removed]",
      "text/plain": [
       "<Figure size 432x288 with 1 Axes>"
      ]
     },
     "metadata": {
      "needs_background": "light"
     },
     "output_type": "display_data"
    }
   ],
   "source": [
    "plt.imshow(images[9200])"
   ]
  },
  {
   "cell_type": "code",
   "execution_count": 56,
   "metadata": {},
   "outputs": [],
   "source": [
    "#Defining Callback\n",
    "class calling_Back(tf.keras.callbacks.Callback):\n",
    "    def epoch_eng(self, epoch, log  = {}):\n",
    "        if(logs.get('val_accuracy')>0.995):\n",
    "            print(\"\\nReached 99.5% accuracy so cancelling training!\")\n",
    "            self.model.stop_training = true"
   ]
  },
  {
   "cell_type": "code",
   "execution_count": 57,
   "metadata": {},
   "outputs": [],
   "source": [
    "#Building CNN Model\n",
    "model = tf.keras.models.Sequential([\n",
    "                                    tf.keras.layers.Conv2D(32, (3,3), input_shape=(28, 28, 1),  activation=\"relu\"),\n",
    "                                    tf.keras.layers.MaxPooling2D(2, 2),\n",
    "                                    tf.keras.layers.Dropout(0.5),\n",
    "                                    tf.keras.layers.Conv2D(64, (3,3),  activation=\"relu\"),\n",
    "                                    tf.keras.layers.MaxPooling2D(2, 2),\n",
    "                                    tf.keras.layers.Dropout(0.5),\n",
    "                                    tf.keras.layers.Conv2D(64, (3,3),  activation=\"relu\"),\n",
    "                                    tf.keras.layers.Flatten(),\n",
    "                                    tf.keras.layers.Dense(128, activation=\"relu\"),\n",
    "                                    tf.keras.layers.Dropout(0.5),\n",
    "                                    tf.keras.layers.Dense(10,activation=tf.nn.softmax)   \n",
    "])"
   ]
  },
  {
   "cell_type": "code",
   "execution_count": 58,
   "metadata": {},
   "outputs": [
    {
     "name": "stdout",
     "output_type": "stream",
     "text": [
      "Model: \"sequential_2\"\n",
      "_________________________________________________________________\n",
      "Layer (type)                 Output Shape              Param #   \n",
      "=================================================================\n",
      "conv2d_6 (Conv2D)            (None, 26, 26, 32)        320       \n",
      "_________________________________________________________________\n",
      "max_pooling2d_4 (MaxPooling2 (None, 13, 13, 32)        0         \n",
      "_________________________________________________________________\n",
      "dropout_6 (Dropout)          (None, 13, 13, 32)        0         \n",
      "_________________________________________________________________\n",
      "conv2d_7 (Conv2D)            (None, 11, 11, 64)        18496     \n",
      "_________________________________________________________________\n",
      "max_pooling2d_5 (MaxPooling2 (None, 5, 5, 64)          0         \n",
      "_________________________________________________________________\n",
      "dropout_7 (Dropout)          (None, 5, 5, 64)          0         \n",
      "_________________________________________________________________\n",
      "conv2d_8 (Conv2D)            (None, 3, 3, 64)          36928     \n",
      "_________________________________________________________________\n",
      "flatten_2 (Flatten)          (None, 576)               0         \n",
      "_________________________________________________________________\n",
      "dense_4 (Dense)              (None, 128)               73856     \n",
      "_________________________________________________________________\n",
      "dropout_8 (Dropout)          (None, 128)               0         \n",
      "_________________________________________________________________\n",
      "dense_5 (Dense)              (None, 10)                1290      \n",
      "=================================================================\n",
      "Total params: 130,890\n",
      "Trainable params: 130,890\n",
      "Non-trainable params: 0\n",
      "_________________________________________________________________\n"
     ]
    }
   ],
   "source": [
    "model.compile(optimizer='adam', \n",
    "              loss='sparse_categorical_crossentropy', \n",
    "              metrics=['accuracy'])\n",
    "model.summary()"
   ]
  },
  {
   "cell_type": "code",
   "execution_count": 59,
   "metadata": {},
   "outputs": [],
   "source": [
    "#Image Augmentation\n",
    "datagen = tf.keras.preprocessing.image.ImageDataGenerator(width_shift_range=0.1,\n",
    "                                                         height_shift_range= 0.1,\n",
    "                                                         zoom_range= 0.1,\n",
    "                                                         rotation_range= 10)"
   ]
  },
  {
   "cell_type": "code",
   "execution_count": 60,
   "metadata": {},
   "outputs": [
    {
     "name": "stdout",
     "output_type": "stream",
     "text": [
      "Epoch 1/30\n",
      "178/178 [==============================] - 7s 37ms/step - loss: 2.0745 - accuracy: 0.2322 - val_loss: 0.8890 - val_accuracy: 0.7941\n",
      "Epoch 2/30\n",
      "178/178 [==============================] - 7s 37ms/step - loss: 0.9380 - accuracy: 0.6822 - val_loss: 0.2008 - val_accuracy: 0.9403\n",
      "Epoch 3/30\n",
      "178/178 [==============================] - 7s 37ms/step - loss: 0.5088 - accuracy: 0.8371 - val_loss: 0.1074 - val_accuracy: 0.9663\n",
      "Epoch 4/30\n",
      "178/178 [==============================] - 6s 34ms/step - loss: 0.3699 - accuracy: 0.8847 - val_loss: 0.0702 - val_accuracy: 0.9747\n",
      "Epoch 5/30\n",
      "178/178 [==============================] - 6s 34ms/step - loss: 0.3027 - accuracy: 0.9051 - val_loss: 0.0560 - val_accuracy: 0.9817\n",
      "Epoch 6/30\n",
      "178/178 [==============================] - 6s 35ms/step - loss: 0.2607 - accuracy: 0.9197 - val_loss: 0.0524 - val_accuracy: 0.9810\n",
      "Epoch 7/30\n",
      "178/178 [==============================] - 6s 35ms/step - loss: 0.2380 - accuracy: 0.9281 - val_loss: 0.0443 - val_accuracy: 0.9881\n",
      "Epoch 8/30\n",
      "178/178 [==============================] - 6s 36ms/step - loss: 0.2059 - accuracy: 0.9351 - val_loss: 0.0507 - val_accuracy: 0.9838\n",
      "Epoch 9/30\n",
      "178/178 [==============================] - 6s 36ms/step - loss: 0.1899 - accuracy: 0.9406 - val_loss: 0.0404 - val_accuracy: 0.9881\n",
      "Epoch 10/30\n",
      "178/178 [==============================] - 6s 35ms/step - loss: 0.1821 - accuracy: 0.9394 - val_loss: 0.0443 - val_accuracy: 0.9874\n",
      "Epoch 11/30\n",
      "178/178 [==============================] - 6s 35ms/step - loss: 0.1654 - accuracy: 0.9485 - val_loss: 0.0383 - val_accuracy: 0.9866\n",
      "Epoch 12/30\n",
      "178/178 [==============================] - 6s 35ms/step - loss: 0.1585 - accuracy: 0.9504 - val_loss: 0.0506 - val_accuracy: 0.9831\n",
      "Epoch 13/30\n",
      "178/178 [==============================] - 6s 35ms/step - loss: 0.1380 - accuracy: 0.9578 - val_loss: 0.0327 - val_accuracy: 0.9902\n",
      "Epoch 14/30\n",
      "178/178 [==============================] - 6s 34ms/step - loss: 0.1353 - accuracy: 0.9571 - val_loss: 0.0304 - val_accuracy: 0.9874\n",
      "Epoch 15/30\n",
      "178/178 [==============================] - 6s 35ms/step - loss: 0.1285 - accuracy: 0.9597 - val_loss: 0.0340 - val_accuracy: 0.9859\n",
      "Epoch 16/30\n",
      "178/178 [==============================] - 6s 35ms/step - loss: 0.1514 - accuracy: 0.9529 - val_loss: 0.0233 - val_accuracy: 0.9930\n",
      "Epoch 17/30\n",
      "178/178 [==============================] - 6s 35ms/step - loss: 0.1233 - accuracy: 0.9613 - val_loss: 0.0236 - val_accuracy: 0.9909\n",
      "Epoch 18/30\n",
      "178/178 [==============================] - 6s 35ms/step - loss: 0.1232 - accuracy: 0.9610 - val_loss: 0.0259 - val_accuracy: 0.9895\n",
      "Epoch 19/30\n",
      "178/178 [==============================] - 6s 35ms/step - loss: 0.1118 - accuracy: 0.9663 - val_loss: 0.0248 - val_accuracy: 0.9895\n",
      "Epoch 20/30\n",
      "178/178 [==============================] - 6s 35ms/step - loss: 0.1094 - accuracy: 0.9638 - val_loss: 0.0225 - val_accuracy: 0.9909\n",
      "Epoch 21/30\n",
      "178/178 [==============================] - 6s 35ms/step - loss: 0.1155 - accuracy: 0.9613 - val_loss: 0.0217 - val_accuracy: 0.9909\n",
      "Epoch 22/30\n",
      "178/178 [==============================] - 6s 34ms/step - loss: 0.0970 - accuracy: 0.9677 - val_loss: 0.0180 - val_accuracy: 0.9923\n",
      "Epoch 23/30\n",
      "178/178 [==============================] - 6s 35ms/step - loss: 0.1113 - accuracy: 0.9645 - val_loss: 0.0159 - val_accuracy: 0.9937\n",
      "Epoch 24/30\n",
      "178/178 [==============================] - 6s 35ms/step - loss: 0.1093 - accuracy: 0.9641 - val_loss: 0.0179 - val_accuracy: 0.9937\n",
      "Epoch 25/30\n",
      "178/178 [==============================] - 6s 35ms/step - loss: 0.1062 - accuracy: 0.9670 - val_loss: 0.0220 - val_accuracy: 0.9909\n",
      "Epoch 26/30\n",
      "178/178 [==============================] - 6s 35ms/step - loss: 0.0990 - accuracy: 0.9692 - val_loss: 0.0232 - val_accuracy: 0.9923\n",
      "Epoch 27/30\n",
      "178/178 [==============================] - 6s 34ms/step - loss: 0.0943 - accuracy: 0.9719 - val_loss: 0.0156 - val_accuracy: 0.9937\n",
      "Epoch 28/30\n",
      "178/178 [==============================] - 6s 35ms/step - loss: 0.0925 - accuracy: 0.9728 - val_loss: 0.0209 - val_accuracy: 0.9923\n",
      "Epoch 29/30\n",
      "178/178 [==============================] - 6s 35ms/step - loss: 0.0910 - accuracy: 0.9701 - val_loss: 0.0171 - val_accuracy: 0.9958\n",
      "Epoch 30/30\n",
      "178/178 [==============================] - 6s 35ms/step - loss: 0.0919 - accuracy: 0.9719 - val_loss: 0.0172 - val_accuracy: 0.9930\n"
     ]
    }
   ],
   "source": [
    "#Training the model\n",
    "callbacks = calling_Back()\n",
    "history = model.fit(datagen.flow(train_images, train_labels),\n",
    "                              epochs = 30, validation_data = (val_images, val_labels), callbacks = [callbacks])"
   ]
  },
  {
   "cell_type": "code",
   "execution_count": 65,
   "metadata": {},
   "outputs": [
    {
     "data": {
      "image/png": "[encoded data removed]",
      "text/plain": [
       "<Figure size 432x288 with 1 Axes>"
      ]
     },
     "metadata": {
      "needs_background": "light"
     },
     "output_type": "display_data"
    },
    {
     "data": {
      "image/png": "[encoded data removed]",
      "text/plain": [
       "<Figure size 432x288 with 1 Axes>"
      ]
     },
     "metadata": {
      "needs_background": "light"
     },
     "output_type": "display_data"
    }
   ],
   "source": [
    "\n",
    "plt.figure(1)\n",
    "plt.plot(history.history['loss'])\n",
    "plt.plot(history.history['val_loss'])\n",
    "plt.legend(['Training','Validation'])\n",
    "plt.title('Loss')\n",
    "plt.xlabel('epoch')\n",
    "plt.figure(2)\n",
    "plt.plot(history.history['accuracy'])\n",
    "plt.plot(history.history['val_accuracy'])\n",
    "plt.legend(['Training','Validation'])\n",
    "plt.title('Accuracy')\n",
    "plt.xlabel('epoch')\n",
    "plt.show()"
   ]
  },
  {
   "cell_type": "code",
   "execution_count": 68,
   "metadata": {},
   "outputs": [
    {
     "name": "stdout",
     "output_type": "stream",
     "text": [
      "96/96 [==============================] - 1s 12ms/step - loss: 0.0199 - accuracy: 0.9941\n",
      "Test Score: 0.019916467368602753\n",
      "Test Accuracy: 0.9940944910049438\n"
     ]
    }
   ],
   "source": [
    "#Evaluating the model test\n",
    "score = model.evaluate(test_images, test_labels, verbose = 1)\n",
    "print('Test Score:', score[0])\n",
    "print('Test Accuracy:', score[1])"
   ]
  },
  {
   "cell_type": "code",
   "execution_count": 69,
   "metadata": {},
   "outputs": [
    {
     "name": "stdout",
     "output_type": "stream",
     "text": [
      "WARNING:tensorflow:From C:\\Users\\aksha\\AppData\\Roaming\\Python\\Python38\\site-packages\\tensorflow\\python\\training\\tracking\\tracking.py:111: Model.state_updates (from tensorflow.python.keras.engine.training) is deprecated and will be removed in a future version.\n",
      "Instructions for updating:\n",
      "This property should not be used in TensorFlow 2.0, as updates are applied automatically.\n",
      "WARNING:tensorflow:From C:\\Users\\aksha\\AppData\\Roaming\\Python\\Python38\\site-packages\\tensorflow\\python\\training\\tracking\\tracking.py:111: Layer.updates (from tensorflow.python.keras.engine.base_layer) is deprecated and will be removed in a future version.\n",
      "Instructions for updating:\n",
      "This property should not be used in TensorFlow 2.0, as updates are applied automatically.\n",
      "INFO:tensorflow:Assets written to: Digit_Recognizer\\assets\n"
     ]
    }
   ],
   "source": [
    "model.save('Digit_Recognizer')\n",
    "model.save(\"Digit_Recognizer.h5\")"
   ]
  },
  {
   "cell_type": "code",
   "execution_count": null,
   "metadata": {},
   "outputs": [],
   "source": []
  }
 ],
 "metadata": {
  "kernelspec": {
   "display_name": "Python 3",
   "language": "python",
   "name": "python3"
  },
  "language_info": {
   "codemirror_mode": {
    "name": "ipython",
    "version": 3
   },
   "file_extension": ".py",
   "mimetype": "text/x-python",
   "name": "python",
   "nbconvert_exporter": "python",
   "pygments_lexer": "ipython3",
   "version": "3.8.3"
  }
 },
 "nbformat": 4,
 "nbformat_minor": 4
}
